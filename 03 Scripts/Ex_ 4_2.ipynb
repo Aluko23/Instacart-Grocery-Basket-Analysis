{
 "cells": [
  {
   "cell_type": "markdown",
   "id": "6fc34b73-5dc1-4833-b842-251068f7baa7",
   "metadata": {},
   "source": [
    "#  01. importing libraries\n"
   ]
  },
  {
   "cell_type": "code",
   "execution_count": 9,
   "id": "773aa789-6538-403e-a7e5-7eb0e615a827",
   "metadata": {},
   "outputs": [],
   "source": [
    "# import libraries"
   ]
  },
  {
   "cell_type": "code",
   "execution_count": null,
   "id": "de897c9d-f979-4920-aabd-11a3c4815884",
   "metadata": {},
   "outputs": [],
   "source": [
    "import pandas as pd\n",
    "import numpy as np\n",
    "import os "
   ]
  },
  {
   "cell_type": "markdown",
   "id": "85d4950c-a280-44a5-a084-c54627fafbc7",
   "metadata": {},
   "source": [
    "#  02.Python data types"
   ]
  },
  {
   "cell_type": "code",
   "execution_count": null,
   "id": "3c904d46-2bfb-4fef-98aa-8a810fe66e93",
   "metadata": {},
   "outputs": [],
   "source": [
    "# Code 3 different ways of reaching a result of 100"
   ]
  },
  {
   "cell_type": "code",
   "execution_count": 6,
   "id": "d810f49a-6a7a-4010-99a4-8942a85ca2d0",
   "metadata": {},
   "outputs": [],
   "source": [
    "x = 50"
   ]
  },
  {
   "cell_type": "code",
   "execution_count": null,
   "id": "ed9bc7e7-8cbd-4186-8d15-d395dc09f9c9",
   "metadata": {},
   "outputs": [],
   "source": [
    "y = 50"
   ]
  },
  {
   "cell_type": "code",
   "execution_count": 8,
   "id": "dac1d3da-d399-4d22-a34c-360ba41e048f",
   "metadata": {},
   "outputs": [
    {
     "data": {
      "text/plain": [
       "100"
      ]
     },
     "execution_count": 8,
     "metadata": {},
     "output_type": "execute_result"
    }
   ],
   "source": [
    "x + y"
   ]
  },
  {
   "cell_type": "code",
   "execution_count": 21,
   "id": "acad8c02-eb3e-4d44-a0df-51f7ffec1cf0",
   "metadata": {},
   "outputs": [],
   "source": [
    "x = 385"
   ]
  },
  {
   "cell_type": "code",
   "execution_count": 22,
   "id": "9bb07723-8f87-45ba-a398-8f3a59819436",
   "metadata": {},
   "outputs": [],
   "source": [
    "y = 285"
   ]
  },
  {
   "cell_type": "code",
   "execution_count": 23,
   "id": "2ac5d270-8074-48d3-9e43-cedc9150419f",
   "metadata": {},
   "outputs": [
    {
     "data": {
      "text/plain": [
       "100"
      ]
     },
     "execution_count": 23,
     "metadata": {},
     "output_type": "execute_result"
    }
   ],
   "source": [
    "x - y "
   ]
  },
  {
   "cell_type": "code",
   "execution_count": 16,
   "id": "9954c8d0-df25-4122-bb41-ba196d0cf05f",
   "metadata": {},
   "outputs": [],
   "source": [
    "x = 25"
   ]
  },
  {
   "cell_type": "code",
   "execution_count": 17,
   "id": "0be87d02-c097-49d7-9968-9fe3c849ce09",
   "metadata": {},
   "outputs": [],
   "source": [
    "y = 25"
   ]
  },
  {
   "cell_type": "code",
   "execution_count": 18,
   "id": "bf23375d-0911-4236-91b5-23a616bce2cb",
   "metadata": {},
   "outputs": [],
   "source": [
    "z = 25"
   ]
  },
  {
   "cell_type": "code",
   "execution_count": 19,
   "id": "6adbd99f-6440-4506-a9a2-9b1485556ad1",
   "metadata": {},
   "outputs": [],
   "source": [
    "w = 25"
   ]
  },
  {
   "cell_type": "code",
   "execution_count": 20,
   "id": "d5954473-386c-4ee2-bccf-dc60497b2f80",
   "metadata": {},
   "outputs": [
    {
     "data": {
      "text/plain": [
       "100"
      ]
     },
     "execution_count": 20,
     "metadata": {},
     "output_type": "execute_result"
    }
   ],
   "source": [
    "x + y + z + w"
   ]
  },
  {
   "cell_type": "markdown",
   "id": "3720bb60-1273-46fa-b828-aa01d5e254d2",
   "metadata": {},
   "source": []
  },
  {
   "cell_type": "code",
   "execution_count": null,
   "id": "cfc53691-066b-4abd-9894-dd703fab9f6c",
   "metadata": {},
   "outputs": [],
   "source": [
    "# Code 2 floating-point variables and divide them by each other"
   ]
  },
  {
   "cell_type": "code",
   "execution_count": 29,
   "id": "ccbe29a7-85e4-4a0e-b452-900d641a1b72",
   "metadata": {},
   "outputs": [],
   "source": [
    "x = 6.60"
   ]
  },
  {
   "cell_type": "code",
   "execution_count": 30,
   "id": "1da50024-e956-4462-a0ca-1d89af6ba78d",
   "metadata": {},
   "outputs": [],
   "source": [
    "y = 2.30"
   ]
  },
  {
   "cell_type": "code",
   "execution_count": 31,
   "id": "43b8e14c-9ce4-4763-b489-236f6de7410a",
   "metadata": {},
   "outputs": [
    {
     "data": {
      "text/plain": [
       "2.869565217391304"
      ]
     },
     "execution_count": 31,
     "metadata": {},
     "output_type": "execute_result"
    }
   ],
   "source": [
    "x/y"
   ]
  },
  {
   "cell_type": "code",
   "execution_count": 32,
   "id": "58be63b4-36e9-4560-ae03-51a3215656db",
   "metadata": {},
   "outputs": [],
   "source": [
    "x = 7.80"
   ]
  },
  {
   "cell_type": "code",
   "execution_count": 33,
   "id": "67266ed6-5c0c-4ccb-ab13-32f2a8ee6f18",
   "metadata": {},
   "outputs": [],
   "source": [
    "y = 4.77"
   ]
  },
  {
   "cell_type": "code",
   "execution_count": 34,
   "id": "49f69620-f6ff-4727-bb81-ca983bccaa2a",
   "metadata": {},
   "outputs": [
    {
     "data": {
      "text/plain": [
       "1.6352201257861636"
      ]
     },
     "execution_count": 34,
     "metadata": {},
     "output_type": "execute_result"
    }
   ],
   "source": [
    "x/y"
   ]
  },
  {
   "cell_type": "code",
   "execution_count": null,
   "id": "1bf691fd-47b7-45d2-9dcb-7a9a117edf7f",
   "metadata": {},
   "outputs": [],
   "source": []
  },
  {
   "cell_type": "code",
   "execution_count": null,
   "id": "df86c134-0214-44e8-8e26-05dd7881c623",
   "metadata": {},
   "outputs": [],
   "source": [
    "# Construct a short word made of separate strings"
   ]
  },
  {
   "cell_type": "code",
   "execution_count": 35,
   "id": "58a186d6-43d8-4210-93e9-794027374084",
   "metadata": {},
   "outputs": [],
   "source": [
    "x = 'Great,'"
   ]
  },
  {
   "cell_type": "code",
   "execution_count": 36,
   "id": "8c768ab5-df4b-4fb2-95f2-ed9224a29c27",
   "metadata": {},
   "outputs": [],
   "source": [
    "y = 'Wall'"
   ]
  },
  {
   "cell_type": "code",
   "execution_count": 38,
   "id": "1154a571-d0b1-42e9-97f2-6ca4b7643bfb",
   "metadata": {},
   "outputs": [
    {
     "data": {
      "text/plain": [
       "'GreatWall'"
      ]
     },
     "execution_count": 38,
     "metadata": {},
     "output_type": "execute_result"
    }
   ],
   "source": [
    "x + y"
   ]
  },
  {
   "cell_type": "code",
   "execution_count": null,
   "id": "5a89dabd-0cd6-4092-811c-81085d71fb64",
   "metadata": {},
   "outputs": [],
   "source": []
  },
  {
   "cell_type": "code",
   "execution_count": null,
   "id": "31be7034-e585-40ac-8104-eb7a4b9ed60f",
   "metadata": {},
   "outputs": [],
   "source": [
    "# Construct a short sentence made of separate strings"
   ]
  },
  {
   "cell_type": "code",
   "execution_count": 39,
   "id": "5b0bf335-fbd1-49e0-97e4-858f64b140c7",
   "metadata": {},
   "outputs": [],
   "source": [
    "x = ' I love '"
   ]
  },
  {
   "cell_type": "code",
   "execution_count": 40,
   "id": "7f749eb0-df3f-4422-9113-c8ef55e18ec2",
   "metadata": {},
   "outputs": [],
   "source": [
    "y = ' grey '"
   ]
  },
  {
   "cell_type": "code",
   "execution_count": 41,
   "id": "249f28ae-a9d9-4508-b4ca-24562de5c5f1",
   "metadata": {},
   "outputs": [],
   "source": [
    "z = ' car '"
   ]
  },
  {
   "cell_type": "code",
   "execution_count": 42,
   "id": "7ea3f2fb-3bae-449a-83e0-5366bf11d69b",
   "metadata": {},
   "outputs": [
    {
     "data": {
      "text/plain": [
       "' I love  grey  car '"
      ]
     },
     "execution_count": 42,
     "metadata": {},
     "output_type": "execute_result"
    }
   ],
   "source": [
    "x + y + z"
   ]
  },
  {
   "cell_type": "code",
   "execution_count": 44,
   "id": "72254f24-e845-42bf-96fd-be0c18ccca24",
   "metadata": {},
   "outputs": [],
   "source": [
    "x = ' I need to '"
   ]
  },
  {
   "cell_type": "code",
   "execution_count": 45,
   "id": "6f8b185b-3c0e-40f3-a2c1-f6199d25037d",
   "metadata": {},
   "outputs": [],
   "source": [
    "y = ' finished '"
   ]
  },
  {
   "cell_type": "code",
   "execution_count": 46,
   "id": "f4ad8dac-b17b-4050-a5e6-c29ac00ce310",
   "metadata": {},
   "outputs": [],
   "source": [
    "z = ' my task '"
   ]
  },
  {
   "cell_type": "code",
   "execution_count": 47,
   "id": "fbb18522-88d3-49af-aa1a-18cdaa119691",
   "metadata": {},
   "outputs": [
    {
     "data": {
      "text/plain": [
       "' I need to  finished  my task '"
      ]
     },
     "execution_count": 47,
     "metadata": {},
     "output_type": "execute_result"
    }
   ],
   "source": [
    "x + y + z"
   ]
  },
  {
   "cell_type": "code",
   "execution_count": null,
   "id": "56fc9a53-145d-4e41-a1a0-2c692d7c7ce9",
   "metadata": {},
   "outputs": [],
   "source": []
  }
 ],
 "metadata": {
  "kernelspec": {
   "display_name": "Python 3 (ipykernel)",
   "language": "python",
   "name": "python3"
  },
  "language_info": {
   "codemirror_mode": {
    "name": "ipython",
    "version": 3
   },
   "file_extension": ".py",
   "mimetype": "text/x-python",
   "name": "python",
   "nbconvert_exporter": "python",
   "pygments_lexer": "ipython3",
   "version": "3.11.7"
  }
 },
 "nbformat": 4,
 "nbformat_minor": 5
}
